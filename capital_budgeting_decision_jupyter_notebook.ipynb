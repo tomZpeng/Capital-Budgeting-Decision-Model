{
 "cells": [
  {
   "cell_type": "markdown",
   "id": "89c556e5",
   "metadata": {},
   "source": [
    "# Capital Budgeting Decision Jupyter Notebook\n",
    "### Build the EXCEL model first then code it in PYTHON. Includes: \n",
    "+ Future Value (FV), \n",
    "+ Present Value (PV), \n",
    "+ Paybaack Period (PP), \n",
    "+ Net Present Value (NPV), \n",
    "+ Equivalent Annual Annuity (EAA)\n",
    "+ Internal Rate of Return (IRR)\n",
    "+ Profitability Index (PI)\n",
    "+ Modifired Internal Rate of Return (MIRR)\n",
    "+ Crossover Rate and NPV\n"
   ]
  },
  {
   "cell_type": "code",
   "execution_count": 3,
   "id": "63da5a11",
   "metadata": {},
   "outputs": [
    {
     "name": "stdout",
     "output_type": "stream",
     "text": [
      "Requirement already satisfied: pandas in d:\\programdata\\anaconda3\\lib\\site-packages (1.2.4)\n",
      "Requirement already satisfied: numpy>=1.16.5 in d:\\programdata\\anaconda3\\lib\\site-packages (from pandas) (1.20.1)\n",
      "Requirement already satisfied: python-dateutil>=2.7.3 in d:\\programdata\\anaconda3\\lib\\site-packages (from pandas) (2.8.1)\n",
      "Requirement already satisfied: pytz>=2017.3 in d:\\programdata\\anaconda3\\lib\\site-packages (from pandas) (2021.1)\n",
      "Requirement already satisfied: six>=1.5 in d:\\programdata\\anaconda3\\lib\\site-packages (from python-dateutil>=2.7.3->pandas) (1.15.0)\n",
      "Requirement already satisfied: numpy in d:\\programdata\\anaconda3\\lib\\site-packages (1.20.1)\n",
      "Requirement already satisfied: numpy_financial in d:\\programdata\\anaconda3\\lib\\site-packages (1.0.0)\n",
      "Requirement already satisfied: numpy>=1.15 in d:\\programdata\\anaconda3\\lib\\site-packages (from numpy_financial) (1.20.1)\n"
     ]
    }
   ],
   "source": [
    "import pandas as pd\n",
    "import numpy as np\n",
    "import numpy_financial as npf\n",
    "import matplotlib.pyplot as plt"
   ]
  },
  {
   "cell_type": "code",
   "execution_count": 30,
   "id": "cb5980d1",
   "metadata": {},
   "outputs": [
    {
     "data": {
      "text/plain": [
       "1.5333333333333332"
      ]
     },
     "execution_count": 30,
     "metadata": {},
     "output_type": "execute_result"
    }
   ],
   "source": [
    "def payback_period(period_cashflow):\n",
    "    '''\n",
    "    Payback Period\n",
    "    Parameter:\n",
    "        period_cashflow: [CF_0, ... , CF_n] \n",
    "        discount_rate: Discount Rate (r) can based on CAPM \n",
    "    return:\n",
    "        payback_period\n",
    "    '''\n",
    "    if len(period_cashflow) == 0:\n",
    "        return -1\n",
    "    df = pd.DataFrame(enumerate(period_cashflow), columns=['Period', 'Cash Flow'])\n",
    "    df['Cumulative Cash Flows'] = df['Cash Flow'].cumsum()\n",
    "    df['pct'] = np.abs(df['Cumulative Cash Flows'].shift()/df['Cash Flow'])\n",
    "    df['Last Period'] = df['Period'].shift()\n",
    "    df['Payback Period'] = df['Last Period'] + df['pct']\n",
    "    df_positive = df[df['Cumulative Cash Flows']>=0]\n",
    "    if df_positive.shape[0] == 0:\n",
    "        return -1\n",
    "    min_period = df_positive['Period'].min()\n",
    "    payback_period = df[df['Period'] == min_period]['Payback Period'].iloc[0]\n",
    "    return payback_period\n",
    "cash_flow = [-11000, 7000, 7500, 7000, 7000]\n",
    "payback_period(cash_flow)"
   ]
  },
  {
   "cell_type": "code",
   "execution_count": 31,
   "id": "83251f09",
   "metadata": {},
   "outputs": [
    {
     "data": {
      "text/plain": [
       "-1"
      ]
     },
     "execution_count": 31,
     "metadata": {},
     "output_type": "execute_result"
    }
   ],
   "source": [
    "def discounted_payback_period(period_cashflow, discount_rate):\n",
    "    '''\n",
    "    Dicounted Payback Period\n",
    "    Parameter:\n",
    "        period_cashflow: [CF_0, ... , CF_n] \n",
    "        discount_rate: Discount Rate (r) can based on CAPM \n",
    "    return:\n",
    "        discounted_payback_period:\n",
    "    '''\n",
    "    if len(period_cashflow) == 0:\n",
    "        return -1\n",
    "    df = pd.DataFrame(enumerate(period_cashflow), columns=['Period', 'Cash Flow'])\n",
    "    df['Present Value'] = df.apply(lambda row:row['Cash Flow'] / np.power((1+discount_rate), row['Period']),axis=1)\n",
    "    df['Cumulative Dsicounted Cash Flows'] = df['Present Value'].cumsum()\n",
    "    df['pct'] = np.abs(df['Cumulative Dsicounted Cash Flows'].shift()/df['Present Value'])\n",
    "    df['Last Period'] = df['Period'].shift()\n",
    "    df['Discounted Payback Period'] = df['Last Period'] + df['pct']\n",
    "    df_positive = df[df['Cumulative Dsicounted Cash Flows']>=0]\n",
    "    if df_positive.shape[0] == 0:\n",
    "        return -1\n",
    "    min_period = df_positive['Period'].min()\n",
    "    discounted_payback_period = df[df['Period'] == min_period]['Discounted Payback Period'].iloc[0]\n",
    "    return discounted_payback_period\n",
    "cash_flow = [-11000, 7000, 7500, 7000, 7000]\n",
    "discounted_payback_period(cash_flow, discount_rate)"
   ]
  },
  {
   "cell_type": "code",
   "execution_count": 32,
   "id": "c18deb70",
   "metadata": {},
   "outputs": [
    {
     "data": {
      "text/plain": [
       "-3680.534986686719"
      ]
     },
     "execution_count": 32,
     "metadata": {},
     "output_type": "execute_result"
    }
   ],
   "source": [
    "def net_present_value(period_cashflow, discount_rate):\n",
    "    '''\n",
    "    Net Present Value (NPV)\n",
    "    Parameter:\n",
    "        period_cashflow: [CF_0, ... , CF_n] \n",
    "        discount_rate: Discount Rate (r) can based on CAPM \n",
    "    return:\n",
    "        df['Present Value'].sum(): NPV = the sum of each cash flow's Present Value\n",
    "    '''\n",
    "    if len(period_cashflow) == 0:\n",
    "        return -1\n",
    "    df = pd.DataFrame(enumerate(period_cashflow), columns=['Period', 'Cash Flow'])\n",
    "    df['Present Value'] = df.apply(lambda row:row['Cash Flow'] / np.power((1+discount_rate), row['Period']),axis=1)\n",
    "    return df['Present Value'].sum()\n",
    "discount_rate = 0.9\n",
    "cash_flow = [-11000, 7000, 7500, 7000, 7000]\n",
    "net_present_value(cash_flow, discount_rate)"
   ]
  },
  {
   "cell_type": "code",
   "execution_count": 33,
   "id": "1c629e64",
   "metadata": {},
   "outputs": [
    {
     "data": {
      "text/plain": [
       "-3587.7851746577903"
      ]
     },
     "execution_count": 33,
     "metadata": {},
     "output_type": "execute_result"
    }
   ],
   "source": [
    "def equivalent_annual_annuity(period_cashflow, discount_rate):\n",
    "    '''\n",
    "    Equivalent Annual Annuity (EAA)\n",
    "    Parameter:\n",
    "        period_cashflow: [CF_0, ... , CF_n] \n",
    "        discount_rate: Discount Rate (r) can based on CAPM \n",
    "    return:\n",
    "        NPV/PVIFA: EAA\n",
    "    '''\n",
    "    n = len(period_cashflow) - 1\n",
    "    # For the formular PVIFA, n cannot be 0, if n =0, EAA = NPV/0. \n",
    "    if n < 0 or n == 0:\n",
    "        return -1\n",
    "    NPV = net_present_value(period_cashflow, discount_rate)\n",
    "    PVIFA = (1 - (1/np.power((1+discount_rate),n)))/discount_rate\n",
    "    return NPV/PVIFA\n",
    "discount_rate = 0.9\n",
    "cash_flow = [-11000, 7000, 7500, 7000, 7000]\n",
    "equivalent_annual_annuity(cash_flow, discount_rate)"
   ]
  },
  {
   "cell_type": "code",
   "execution_count": 34,
   "id": "74d75006",
   "metadata": {},
   "outputs": [
    {
     "data": {
      "text/plain": [
       "0.5307617359784935"
      ]
     },
     "execution_count": 34,
     "metadata": {},
     "output_type": "execute_result"
    }
   ],
   "source": [
    "def internal_rate_of_return(period_cashflow):\n",
    "    '''\n",
    "    Internal Rate of Return (IRR)\n",
    "    Parameter:\n",
    "        period_cashflow: [CF_0, ... , CF_n] \n",
    "        discount_rate: Discount Rate (r) can based on CAPM \n",
    "    return:\n",
    "        npf.irr(period_cashflow): IRR\n",
    "    '''\n",
    "    if len(period_cashflow) == 0:\n",
    "        return -1\n",
    "    return npf.irr(period_cashflow)\n",
    "discount_rate = 0.9\n",
    "cash_flow = [-11000, 7000, 7500, 7000, 7000]\n",
    "internal_rate_of_return(cash_flow)"
   ]
  },
  {
   "cell_type": "code",
   "execution_count": 35,
   "id": "a95c0365",
   "metadata": {},
   "outputs": [
    {
     "data": {
      "text/plain": [
       "0.6654059103012073"
      ]
     },
     "execution_count": 35,
     "metadata": {},
     "output_type": "execute_result"
    }
   ],
   "source": [
    "def profitability_index(period_cashflow, discount_rate):\n",
    "    '''\n",
    "    Profitability Index (PI)\n",
    "    Parameter:\n",
    "        period_cashflow: [CF_0, ... , CF_n]\n",
    "        discount_rate: Discount Rate (r) can based on CAPM \n",
    "    return:\n",
    "        PI: Profitability Index\n",
    "    '''\n",
    "    if len(period_cashflow) == 0:\n",
    "        return -1\n",
    "    NPV = net_present_value(period_cashflow, discount_rate)\n",
    "    if NPV == 0:\n",
    "        return -1\n",
    "    cost = period_cashflow[0]*(-1)\n",
    "    PI = (NPV+cost)/cost\n",
    "    return PI\n",
    "discount_rate = 0.9\n",
    "cash_flow = [-11000, 7000, 7500, 7000, 7000]\n",
    "profitability_index(cash_flow, discount_rate)"
   ]
  },
  {
   "cell_type": "code",
   "execution_count": 10,
   "id": "0a4b9016",
   "metadata": {},
   "outputs": [],
   "source": [
    "def npv_profile(first_cash_flow, second_cash_flow):\n",
    "    '''\n",
    "    NPV Profile: Sensitivity Analytics the NPV value by move Discount Rate from 0% to 100%\n",
    "    Parameter:\n",
    "        first_cash_flow: The first project's cash flow. [CF_0, ... , CF_n] \n",
    "        second_cash_flow: The second project's cash flow. [CF_0, ... , CF_n]  \n",
    "    Function call: \n",
    "        internal_rate_of_return: IRR calculation function calculate based on Cash flow\n",
    "    return:\n",
    "        first_irr: The first project's IRR\n",
    "        second_irr: The first project's IRR \n",
    "        diff_cash_flow_irr: The difference of the two cash flows' IRR\n",
    "            df_cash_flow: (First project cash flows - relative second project cash flow)\n",
    "        df_npv: Create a data frame for NPV profile plot. [\"Discount Rate\",\"Project A\", \"Project B\"]\n",
    "    '''\n",
    "    npv_list = []\n",
    "    for discount_rate in np.arange(0, 1.01, 0.01):\n",
    "        first_npv = net_present_value(first_cash_flow, discount_rate)\n",
    "        second_npv = net_present_value(second_cash_flow, discount_rate)\n",
    "        npv_list.append([discount_rate, first_npv, second_npv])\n",
    "    df_npv = pd.DataFrame(npv_list, columns=[\"Discount Rate\",\"Project A\", \"Project B\"])\n",
    "    # NPV = 0, for IRR\n",
    "    first_irr = internal_rate_of_return(first_cash_flow)\n",
    "    second_irr = internal_rate_of_return(second_cash_flow)\n",
    "    # before calulate the differ\n",
    "    df_cash_flow = pd.DataFrame({\n",
    "        \"Project A\":pd.Series(first_cash_flow), \n",
    "        \"Project B\":pd.Series(second_cash_flow)\n",
    "        }).fillna(0)\n",
    "    df_cash_flow['Diff Cash Flow'] = df_cash_flow[\"Project A\"] - df_cash_flow[\"Project B\"]\n",
    "    diff_cash_flow = list(df_cash_flow['Diff Cash Flow'])\n",
    "    # Cross over rate\n",
    "    diff_cash_flow_irr = internal_rate_of_return(diff_cash_flow)\n",
    "    return first_irr, second_irr, diff_cash_flow_irr, df_npv\n",
    "    # first_irr, second_irr, diff_cash_flow_irr, df_npv = npv_profile\\\n",
    "    #     (first_cash_flow = [-11000, 7000, 7500, 7000, 7000],\\ \n",
    "    #     second_cash_flow = [-1500000, 800000, 800000, 300000, 100000])"
   ]
  },
  {
   "cell_type": "code",
   "execution_count": 11,
   "id": "a387e486",
   "metadata": {},
   "outputs": [
    {
     "name": "stdout",
     "output_type": "stream",
     "text": [
      "--------------------------------------------------------------------\n",
      "Project A Cash Flows:  [-11000, 7000, 7500, 7000, 7000]\n",
      "Project B Cash Flows:  [-150000, 80000, 80000, 30000, 10000, 20000]\n",
      "--------------------------------------------------------------------\n",
      "Project A IRR =53.08%\n",
      "Project B IRR =21.03%\n",
      "Crossover Rate =17.65%\n"
     ]
    }
   ],
   "source": [
    "\n",
    "if __name__ == '__main__':\n",
    "    first_cash_flow = [-11000, 7000, 7500, 7000, 7000]\n",
    "    second_cash_flow = [-150000, 80000, 80000, 30000, 10000, 20000]\n",
    "    npv_profile(first_cash_flow, second_cash_flow)\n",
    "    first_irr, second_irr, diff_cash_flow_irr, df_npv = npv_profile(first_cash_flow, second_cash_flow)\n",
    "    print('--------------------------------------------------------------------')\n",
    "    print('Project A Cash Flows: ',first_cash_flow)\n",
    "    print('Project B Cash Flows: ',second_cash_flow)\n",
    "    print('--------------------------------------------------------------------')\n",
    "    print('{} IRR ={:0.2%}'.format('Project A',first_irr))\n",
    "    print('{} IRR ={:0.2%}'.format('Project B',second_irr))\n",
    "    print('{} ={:0.2%}'.format('Crossover Rate',diff_cash_flow_irr))"
   ]
  },
  {
   "cell_type": "code",
   "execution_count": null,
   "id": "b771727e",
   "metadata": {},
   "outputs": [],
   "source": []
  },
  {
   "cell_type": "code",
   "execution_count": 15,
   "id": "f82051e1",
   "metadata": {},
   "outputs": [],
   "source": [
    "def plot_npv_profile(first_cash_flow, second_cash_flow):\n",
    "    if second_cash_flow == [0,0]:\n",
    "        first_irr, second_irr, diff_cash_flow_irr, df_npv = npv_profile(first_cash_flow, second_cash_flow)\n",
    "        plt.figure(figsize=(9,6))\n",
    "\n",
    "        plt.axhline(y=0, c='gray', linestyle='dashed')\n",
    "        plt.axvline(x=diff_cash_flow_irr, c='gray', linestyle='dashed')\n",
    "\n",
    "        plt.plot(df_npv['Discount Rate'], df_npv['Project A'], label='Project A')\n",
    "        \n",
    "        plt.title(\"NPV Profile (Sensitivity Test for NPV)\", fontsize=14)\n",
    "        plt.xlabel('Discount Rate (r)')\n",
    "        plt.ylabel('NPV (in dollar)')\n",
    "        plt.legend()\n",
    "        plt.show()\n",
    "    else:\n",
    "        first_irr, second_irr, diff_cash_flow_irr, df_npv = npv_profile(first_cash_flow, second_cash_flow)\n",
    "        plt.figure(figsize=(9,6))\n",
    "\n",
    "        plt.axhline(y=0, c='gray', linestyle='dashed')\n",
    "        plt.axvline(x=diff_cash_flow_irr, c='gray', linestyle='dashed')\n",
    "\n",
    "        plt.plot(df_npv['Discount Rate'], df_npv['Project A'], label='Project A')\n",
    "        plt.plot(df_npv['Discount Rate'], df_npv['Project B'], label='Project B')\n",
    "        \n",
    "        plt.title(\"NPV Profile (Sensitivity Test for NPV)\", fontsize=14)\n",
    "        plt.xlabel('Discount Rate (r)')\n",
    "        plt.ylabel('NPV (in dollar)')\n",
    "        plt.legend()\n",
    "        plt.show()"
   ]
  },
  {
   "cell_type": "code",
   "execution_count": 26,
   "id": "6092ba87",
   "metadata": {},
   "outputs": [
    {
     "data": {
      "image/png": "[encoded data removed]",
      "text/plain": [
       "<Figure size 648x432 with 1 Axes>"
      ]
     },
     "metadata": {
      "needs_background": "light"
     },
     "output_type": "display_data"
    }
   ],
   "source": [
    "if __name__ == '__main__':\n",
    "    first_cash_flow = [-9000, 1500, 2500, 3500, 3500, 3500, 3500]\n",
    "    second_cash_flow = [-11000, 7500, 7500, 7500, 7500, -20000]\n",
    "    plot_npv_profile(first_cash_flow, second_cash_flow)"
   ]
  },
  {
   "cell_type": "code",
   "execution_count": 29,
   "id": "2100213f",
   "metadata": {},
   "outputs": [
    {
     "name": "stdout",
     "output_type": "stream",
     "text": [
      "-----\n",
      "| Discount Rate: 0.9\n",
      "-----\n",
      "Input first cash flow, separate each cash flow by \",\". \n",
      "    For example: -1100000, 500000, 300000, 300000, 300000 \n",
      "Cash flow: -9000, 1500, 2500, 3500, 3500, 3500, 3500\n",
      "-----\n",
      "Input second cash flow, separate each cash flow by \",\". \n",
      "    For example: -150000, 80000, 80000, 30000, 10000, 20000\n",
      "    (press [Enter] to Skip)\n",
      "Cash flow: -11000, 7500, 7500, 7500, 7500, -20000\n",
      "--------------------------------------------------------------------\n",
      "--------------------------------------------------------------------\n",
      "First Cash Flows:  [-9000, 1500, 2500, 3500, 3500, 3500, 3500]\n",
      "Discount Rate:  \t\t\t 0.9\n",
      "Payback Period (PP):  \t\t\t 3.429\n",
      "Discounted Payback Period (DPP):  \t nan\n",
      "Net Present Value (NPV):  \t\t -6523.41\n",
      "Equivalent Annual Annuity (EAA):  \t -5998.58\n",
      "Internal Rate of Return (IRR):  \t 0.2108\n",
      "Profitability Index (PI):  \t\t 0.28\n",
      "--------------------------------------------------------------------\n",
      "--------------------------------------------------------------------\n",
      "Second Cash Flows:  [-11000, 7500, 7500, 7500, 7500, -20000]\n",
      "Discount Rate:  \t\t\t 0.9\n",
      "Payback Period (PP):  \t\t\t 1.467\n",
      "Discounted Payback Period (DPP):  \t nan\n",
      "Net Present Value (NPV):  \t\t -4113.84\n",
      "Equivalent Annual Annuity (EAA):  \t -3858.27\n",
      "Internal Rate of Return (IRR):  \t 0.0562\n",
      "Profitability Index (PI):  \t\t 0.63\n",
      "--------------------------------------------------------------------\n",
      "Crossover Rate:  \t\t\t 0.1957\n",
      "--------------------------------------------------------------------\n"
     ]
    },
    {
     "data": {
      "image/png": "[encoded data removed]",
      "text/plain": [
       "<Figure size 648x432 with 1 Axes>"
      ]
     },
     "metadata": {
      "needs_background": "light"
     },
     "output_type": "display_data"
    }
   ],
   "source": [
    "if __name__ == '__main__': \n",
    "    print('-----')\n",
    "    input_discount_rate=input('| Discount Rate: ')\n",
    "    discount_rate = float(input_discount_rate)\n",
    "    print('-----')\n",
    "    print('Input first cash flow, separate each cash flow by \",\". ')\n",
    "    print('    For example: -1100000, 500000, 300000, 300000, 300000 ')\n",
    "    input_first_cash_flow=input('Cash flow: ')\n",
    "    input_first_cash_flow_list=input_first_cash_flow.split(\",\")\n",
    "    first_cash_flow = [int(input_first_cash_flow_list[i]) for i in range(len(input_first_cash_flow_list))]\n",
    "    print('-----')\n",
    "    print('Input second cash flow, separate each cash flow by \",\". ')\n",
    "    print('    For example: -150000, 80000, 80000, 30000, 10000, 20000')\n",
    "    print('    (press [Enter] to Skip)')\n",
    "    input_second_cash_flow=input('Cash flow: ')\n",
    "    if input_second_cash_flow == '':\n",
    "        input_second_cash_flow = '0,0'\n",
    "    input_second_cash_flow_list=input_second_cash_flow.split(\",\")\n",
    "    second_cash_flow = [int(input_second_cash_flow_list[i]) for i in range(len(input_second_cash_flow_list))]\n",
    "\n",
    "\n",
    "    print('--------------------------------------------------------------------')\n",
    "    print('--------------------------------------------------------------------')\n",
    "    print('First Cash Flows: ',first_cash_flow)\n",
    "    print('Discount Rate: ','\\t\\t\\t',discount_rate)\n",
    "    if payback_period(first_cash_flow) == -1:\n",
    "        print('Payback Period (PP): ','\\t\\t\\t','nan')\n",
    "    else:\n",
    "        print('Payback Period (PP): ','\\t\\t\\t',format(payback_period(first_cash_flow), '.3f'))\n",
    "    if discounted_payback_period(first_cash_flow, discount_rate) == -1:\n",
    "        print('Discounted Payback Period (DPP): ','\\t','nan')\n",
    "    else:\n",
    "        print('Discounted Payback Period (DPP): ','\\t',format(discounted_payback_period(first_cash_flow, discount_rate), '.3f'))\n",
    "    print('Net Present Value (NPV): ','\\t\\t',format(net_present_value(first_cash_flow, discount_rate), '.2f'))\n",
    "    if equivalent_annual_annuity(first_cash_flow, discount_rate) == -1:\n",
    "        print('Equivalent Annual Annuity (EAA): ','\\t','nan')\n",
    "    else:\n",
    "        print('Equivalent Annual Annuity (EAA): ','\\t',format(equivalent_annual_annuity(first_cash_flow, discount_rate), '.2f'))\n",
    "    print('Internal Rate of Return (IRR): ','\\t',format(internal_rate_of_return(first_cash_flow), '.4f'))\n",
    "    print('Profitability Index (PI): ','\\t\\t',format(profitability_index(first_cash_flow, discount_rate), '.2f'))\n",
    "    first_irr, second_irr, diff_cash_flow_irr, df_npv = npv_profile(first_cash_flow, second_cash_flow)\n",
    "    \n",
    "    if input_second_cash_flow != '0,0':\n",
    "        print('--------------------------------------------------------------------')\n",
    "        print('--------------------------------------------------------------------')\n",
    "        print('Second Cash Flows: ',second_cash_flow)\n",
    "        print('Discount Rate: ','\\t\\t\\t',discount_rate)\n",
    "        if payback_period(second_cash_flow) == -1:\n",
    "            print('Payback Period (PP): ','\\t\\t\\t','nan')\n",
    "        else:\n",
    "            print('Payback Period (PP): ','\\t\\t\\t',format(payback_period(second_cash_flow), '.3f'))\n",
    "        if discounted_payback_period(second_cash_flow, discount_rate) == -1:\n",
    "            print('Discounted Payback Period (DPP): ','\\t','nan')\n",
    "        else:\n",
    "            print('Discounted Payback Period (DPP): ','\\t',format(discounted_payback_period(second_cash_flow, discount_rate), '.3f'))\n",
    "        print('Net Present Value (NPV): ','\\t\\t',format(net_present_value(second_cash_flow, discount_rate), '.2f'))\n",
    "        if equivalent_annual_annuity(second_cash_flow, discount_rate) == -1:\n",
    "            print('Equivalent Annual Annuity (EAA): ','\\t','nan')\n",
    "        else:\n",
    "            print('Equivalent Annual Annuity (EAA): ','\\t',format(equivalent_annual_annuity(second_cash_flow, discount_rate), '.2f'))\n",
    "        print('Internal Rate of Return (IRR): ','\\t',format(internal_rate_of_return(second_cash_flow), '.4f'))\n",
    "        print('Profitability Index (PI): ','\\t\\t',format(profitability_index(second_cash_flow, discount_rate), '.2f'))\n",
    "        print('--------------------------------------------------------------------')\n",
    "    \n",
    "    print('Crossover Rate: ','\\t\\t\\t',format(diff_cash_flow_irr, '.4f'))\n",
    "    print('--------------------------------------------------------------------')\n",
    "    plot_npv_profile(first_cash_flow, second_cash_flow)"
   ]
  },
  {
   "cell_type": "code",
   "execution_count": null,
   "id": "9de861dc",
   "metadata": {},
   "outputs": [],
   "source": []
  }
 ],
 "metadata": {
  "kernelspec": {
   "display_name": "Python 3",
   "language": "python",
   "name": "python3"
  },
  "language_info": {
   "codemirror_mode": {
    "name": "ipython",
    "version": 3
   },
   "file_extension": ".py",
   "mimetype": "text/x-python",
   "name": "python",
   "nbconvert_exporter": "python",
   "pygments_lexer": "ipython3",
   "version": "3.8.8"
  }
 },
 "nbformat": 4,
 "nbformat_minor": 5
}
